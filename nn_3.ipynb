{
 "cells": [
  {
   "cell_type": "code",
   "execution_count": 72,
   "metadata": {},
   "outputs": [],
   "source": [
    "import torch\n",
    "import torch.nn as nn\n",
    "import torch.nn.functional as F\n",
    "from torch.optim import Adam, SGD\n",
    "from torch.utils.data import TensorDataset, DataLoader\n",
    "import numpy as np\n",
    "import pandas as pd\n",
    "import matplotlib.pyplot as plt\n",
    "from nn_1 import read_data"
   ]
  },
  {
   "cell_type": "code",
   "execution_count": 73,
   "metadata": {},
   "outputs": [],
   "source": [
    "def check_accuracy(preds, targets):\n",
    "    return np.mean(np.argmax(preds, axis=-1)==targets)"
   ]
  },
  {
   "cell_type": "code",
   "execution_count": 67,
   "metadata": {},
   "outputs": [],
   "source": [
    "train_x,train_y,val_x,val_y,test_x = read_data()\n",
    "train_x = torch.from_numpy(train_x).float()\n",
    "train_y = torch.from_numpy(np.argmax(train_y, axis=-1)) # remove one-hot encoding\n",
    "val_x = torch.from_numpy(val_x).float()\n",
    "val_y = torch.from_numpy(np.argmax(val_y, axis=-1)) # remove one-hot encoding\n",
    "test_x = torch.from_numpy(test_x).float()"
   ]
  },
  {
   "cell_type": "code",
   "execution_count": 68,
   "metadata": {},
   "outputs": [
    {
     "data": {
      "text/plain": [
       "device(type='cpu')"
      ]
     },
     "execution_count": 68,
     "metadata": {},
     "output_type": "execute_result"
    }
   ],
   "source": [
    "torch.cuda.empty_cache()\n",
    "device = torch.device(\"cuda\") if torch.cuda.is_available() else torch.device(\"cpu\")\n",
    "device"
   ]
  },
  {
   "cell_type": "code",
   "execution_count": 69,
   "metadata": {},
   "outputs": [],
   "source": [
    "class Net(nn.Module):\n",
    "    def __init__(self, num_layers, num_units, input_dim, output_dim, drop_prob=0.5):\n",
    "        super(Net, self).__init__()\n",
    "        neurons = [input_dim] + [num_units] * num_layers + [output_dim]\n",
    "        self.hidden_layers = nn.ModuleList()\n",
    "\n",
    "        for i in range(num_layers+1):\n",
    "            self.hidden_layers.append(nn.Linear(neurons[i], neurons[i+1], bias=True))\n",
    "\n",
    "        self.batchNorm1d = nn.BatchNorm1d(num_units)\n",
    "        self.dropout = nn.Dropout(drop_prob)\n",
    "    \n",
    "    def forward(self, x):\n",
    "        for fc in self.hidden_layers[:-1]:\n",
    "            x = self.dropout(F.relu(fc(x)))\n",
    "#             x = self.batchNorm1d(x)\n",
    "        x = self.hidden_layers[-1](x)\n",
    "        return x"
   ]
  },
  {
   "cell_type": "code",
   "execution_count": 86,
   "metadata": {},
   "outputs": [],
   "source": [
    "def train(model, optimizer, criterion, train_x, train_y, val_x, val_y, \n",
    "          epochs, device=device, verbose=True):\n",
    "    trainset = TensorDataset(train_x, train_y)\n",
    "    trainloader = DataLoader(trainset, shuffle=True, batch_size=batch_size)\n",
    "    losslist = []\n",
    "    for epoch in range(epochs):  # loop over the dataset multiple times\n",
    "        model.train()\n",
    "        for i, data in enumerate(trainloader, 0):\n",
    "            # get the inputs; data is a list of [inputs, labels]\n",
    "            inputs, labels = data\n",
    "\n",
    "            # zero the parameter gradients\n",
    "            optimizer.zero_grad()\n",
    "\n",
    "            # forward + backward + optimize\n",
    "            outputs = model(inputs.to(device))\n",
    "            loss = criterion(outputs, labels.to(device))\n",
    "            loss.backward()\n",
    "            optimizer.step()\n",
    "        if (1+epoch) % 10 == 0 and verbose:\n",
    "            model.eval()\n",
    "            train_preds = model(train_x.to(device))\n",
    "            train_loss = criterion(train_preds, train_y.to(device)).item()\n",
    "            train_acc = check_accuracy(train_preds.detach().numpy(), train_y.detach().numpy())\n",
    "            val_preds = model(val_x.to(device))\n",
    "            val_loss = criterion(val_preds, val_y.to(device)).item()\n",
    "            val_acc = check_accuracy(val_preds.detach().numpy(), val_y.detach().numpy())\n",
    "            print(\"Epoch = {}, train_loss = {:.3f}, val_loss = {:.3f}, train_acc={:.3f}, val_acc={:.3f}\"\n",
    "                  .format(epoch+1, train_loss,val_loss,train_acc,val_acc))\n",
    "        \n",
    "    return criterion(model(val_x.to(device)), val_y.to(device)).item()"
   ]
  },
  {
   "cell_type": "code",
   "execution_count": null,
   "metadata": {},
   "outputs": [],
   "source": [
    "num_layers = 1\n",
    "num_units = 64\n",
    "epochs = 100\n",
    "batch_size = 128\n",
    "learning_rate = 0.01\n",
    "\n",
    "model = Net(num_layers,num_units,train_x.shape[1],26).to(device)\n",
    "criterion = nn.CrossEntropyLoss()\n",
    "optimizer = SGD(model.parameters(), lr=learning_rate)\n",
    "\n",
    "train(model, optimizer, criterion, train_x, train_y, val_x, val_y,\n",
    "      epochs, device=device)"
   ]
  },
  {
   "cell_type": "code",
   "execution_count": null,
   "metadata": {},
   "outputs": [],
   "source": []
  }
 ],
 "metadata": {
  "kernelspec": {
   "display_name": "Python 3",
   "language": "python",
   "name": "python3"
  },
  "language_info": {
   "codemirror_mode": {
    "name": "ipython",
    "version": 3
   },
   "file_extension": ".py",
   "mimetype": "text/x-python",
   "name": "python",
   "nbconvert_exporter": "python",
   "pygments_lexer": "ipython3",
   "version": "3.7.6"
  }
 },
 "nbformat": 4,
 "nbformat_minor": 4
}
