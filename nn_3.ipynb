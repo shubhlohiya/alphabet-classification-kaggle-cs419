{
 "cells": [
  {
   "cell_type": "code",
   "execution_count": 1,
   "metadata": {},
   "outputs": [],
   "source": [
    "import torch\n",
    "import torch.nn as nn\n",
    "import torch.nn.functional as F\n",
    "from torch.optim import Adam, SGD\n",
    "from torch.utils.data import TensorDataset, DataLoader\n",
    "import numpy as np\n",
    "from nn_2 import read_data, save_predictions"
   ]
  },
  {
   "cell_type": "code",
   "execution_count": 2,
   "metadata": {},
   "outputs": [],
   "source": [
    "def check_accuracy(preds, targets):\n",
    "    return np.mean(np.argmax(preds, axis=-1)==targets)"
   ]
  },
  {
   "cell_type": "code",
   "execution_count": 3,
   "metadata": {},
   "outputs": [],
   "source": [
    "train_x,train_y,val_x,val_y,test_x = read_data()\n",
    "train_x = torch.from_numpy(train_x).float()\n",
    "train_y = torch.from_numpy(np.argmax(train_y, axis=-1)) # remove one-hot encoding\n",
    "val_x = torch.from_numpy(val_x).float()\n",
    "val_y = torch.from_numpy(np.argmax(val_y, axis=-1)) # remove one-hot encoding\n",
    "test_x = torch.from_numpy(test_x).float()"
   ]
  },
  {
   "cell_type": "code",
   "execution_count": 4,
   "metadata": {},
   "outputs": [
    {
     "data": {
      "text/plain": [
       "device(type='cpu')"
      ]
     },
     "execution_count": 4,
     "metadata": {},
     "output_type": "execute_result"
    }
   ],
   "source": [
    "torch.cuda.empty_cache()\n",
    "device = torch.device(\"cuda\") if torch.cuda.is_available() else torch.device(\"cpu\")\n",
    "device"
   ]
  },
  {
   "cell_type": "code",
   "execution_count": 5,
   "metadata": {},
   "outputs": [],
   "source": [
    "class Net(nn.Module):\n",
    "    def __init__(self, num_layers, num_units, input_dim, output_dim, drop_prob=0.5):\n",
    "        super(Net, self).__init__()\n",
    "        neurons = [input_dim] + [num_units] * num_layers + [output_dim]\n",
    "        self.hidden_layers = nn.ModuleList()\n",
    "\n",
    "        for i in range(num_layers+1):\n",
    "            self.hidden_layers.append(nn.Linear(neurons[i], neurons[i+1], bias=True))\n",
    "\n",
    "        self.batchNorm1d = nn.BatchNorm1d(num_units)\n",
    "        self.dropout = nn.Dropout(drop_prob)\n",
    "    \n",
    "    def forward(self, x):\n",
    "        for fc in self.hidden_layers[:-1]:\n",
    "            x = self.dropout(F.relu(fc(x)))\n",
    "#             x = self.batchNorm1d(x)\n",
    "        x = self.hidden_layers[-1](x)\n",
    "        return x"
   ]
  },
  {
   "cell_type": "code",
   "execution_count": 6,
   "metadata": {},
   "outputs": [],
   "source": [
    "def train(model, optimizer, criterion, train_x, train_y, val_x, val_y, \n",
    "          epochs, device=device, verbose=True):\n",
    "    trainset = TensorDataset(train_x, train_y)\n",
    "    trainloader = DataLoader(trainset, shuffle=True, batch_size=batch_size)\n",
    "    losslist = []\n",
    "    for epoch in range(epochs):  # loop over the dataset multiple times\n",
    "        model.train()\n",
    "        for i, data in enumerate(trainloader, 0):\n",
    "            # get the inputs; data is a list of [inputs, labels]\n",
    "            inputs, labels = data\n",
    "\n",
    "            # zero the parameter gradients\n",
    "            optimizer.zero_grad()\n",
    "\n",
    "            # forward + backward + optimize\n",
    "            outputs = model(inputs.to(device))\n",
    "            loss = criterion(outputs, labels.to(device))\n",
    "            loss.backward()\n",
    "            optimizer.step()\n",
    "        if (1+epoch) % 10 == 0 and verbose:\n",
    "            model.eval()\n",
    "            train_preds = model(train_x.to(device))\n",
    "            train_loss = criterion(train_preds, train_y.to(device)).item()\n",
    "            train_acc = check_accuracy(train_preds.detach().numpy(), train_y.detach().numpy())\n",
    "            val_preds = model(val_x.to(device))\n",
    "            val_loss = criterion(val_preds, val_y.to(device)).item()\n",
    "            val_acc = check_accuracy(val_preds.detach().numpy(), val_y.detach().numpy())\n",
    "            print(\"Epoch = {}, train_loss = {:.3f}, val_loss = {:.3f}, train_acc={:.3f}, val_acc={:.3f}\"\n",
    "                  .format(epoch+1, train_loss,val_loss,train_acc,val_acc))\n",
    "        \n",
    "    return criterion(model(val_x.to(device)), val_y.to(device)).item()"
   ]
  },
  {
   "cell_type": "code",
   "execution_count": 7,
   "metadata": {},
   "outputs": [
    {
     "name": "stdout",
     "output_type": "stream",
     "text": [
      "Epoch = 10, train_loss = 1.106, val_loss = 1.109, train_acc=0.730, val_acc=0.727\n",
      "Epoch = 20, train_loss = 0.909, val_loss = 0.918, train_acc=0.776, val_acc=0.773\n",
      "Epoch = 30, train_loss = 0.807, val_loss = 0.819, train_acc=0.790, val_acc=0.789\n",
      "Epoch = 40, train_loss = 0.730, val_loss = 0.746, train_acc=0.812, val_acc=0.807\n",
      "Epoch = 50, train_loss = 0.676, val_loss = 0.694, train_acc=0.822, val_acc=0.821\n",
      "Epoch = 60, train_loss = 0.632, val_loss = 0.656, train_acc=0.832, val_acc=0.828\n",
      "Epoch = 70, train_loss = 0.593, val_loss = 0.615, train_acc=0.844, val_acc=0.836\n",
      "Epoch = 80, train_loss = 0.561, val_loss = 0.587, train_acc=0.852, val_acc=0.839\n",
      "Epoch = 90, train_loss = 0.536, val_loss = 0.561, train_acc=0.859, val_acc=0.849\n",
      "Epoch = 100, train_loss = 0.510, val_loss = 0.539, train_acc=0.864, val_acc=0.852\n",
      "Epoch = 110, train_loss = 0.489, val_loss = 0.520, train_acc=0.871, val_acc=0.857\n",
      "Epoch = 120, train_loss = 0.470, val_loss = 0.501, train_acc=0.876, val_acc=0.861\n",
      "Epoch = 130, train_loss = 0.451, val_loss = 0.483, train_acc=0.881, val_acc=0.868\n",
      "Epoch = 140, train_loss = 0.436, val_loss = 0.468, train_acc=0.884, val_acc=0.871\n",
      "Epoch = 150, train_loss = 0.421, val_loss = 0.454, train_acc=0.890, val_acc=0.875\n",
      "Epoch = 160, train_loss = 0.410, val_loss = 0.443, train_acc=0.894, val_acc=0.878\n",
      "Epoch = 170, train_loss = 0.396, val_loss = 0.430, train_acc=0.895, val_acc=0.880\n",
      "Epoch = 180, train_loss = 0.384, val_loss = 0.419, train_acc=0.900, val_acc=0.885\n",
      "Epoch = 190, train_loss = 0.374, val_loss = 0.410, train_acc=0.903, val_acc=0.886\n",
      "Epoch = 200, train_loss = 0.365, val_loss = 0.401, train_acc=0.905, val_acc=0.887\n",
      "Epoch = 210, train_loss = 0.357, val_loss = 0.394, train_acc=0.908, val_acc=0.891\n",
      "Epoch = 220, train_loss = 0.348, val_loss = 0.385, train_acc=0.907, val_acc=0.893\n",
      "Epoch = 230, train_loss = 0.338, val_loss = 0.375, train_acc=0.911, val_acc=0.895\n",
      "Epoch = 240, train_loss = 0.331, val_loss = 0.369, train_acc=0.911, val_acc=0.895\n",
      "Epoch = 250, train_loss = 0.325, val_loss = 0.362, train_acc=0.914, val_acc=0.899\n",
      "Epoch = 260, train_loss = 0.320, val_loss = 0.357, train_acc=0.917, val_acc=0.900\n",
      "Epoch = 270, train_loss = 0.313, val_loss = 0.353, train_acc=0.917, val_acc=0.899\n",
      "Epoch = 280, train_loss = 0.306, val_loss = 0.345, train_acc=0.918, val_acc=0.901\n",
      "Epoch = 290, train_loss = 0.301, val_loss = 0.340, train_acc=0.920, val_acc=0.903\n",
      "Epoch = 300, train_loss = 0.296, val_loss = 0.335, train_acc=0.921, val_acc=0.905\n",
      "Epoch = 310, train_loss = 0.290, val_loss = 0.331, train_acc=0.921, val_acc=0.908\n",
      "Epoch = 320, train_loss = 0.285, val_loss = 0.326, train_acc=0.923, val_acc=0.909\n",
      "Epoch = 330, train_loss = 0.280, val_loss = 0.320, train_acc=0.925, val_acc=0.912\n",
      "Epoch = 340, train_loss = 0.276, val_loss = 0.318, train_acc=0.926, val_acc=0.912\n",
      "Epoch = 350, train_loss = 0.274, val_loss = 0.315, train_acc=0.926, val_acc=0.912\n",
      "Epoch = 360, train_loss = 0.268, val_loss = 0.312, train_acc=0.926, val_acc=0.911\n",
      "Epoch = 370, train_loss = 0.264, val_loss = 0.307, train_acc=0.928, val_acc=0.913\n",
      "Epoch = 380, train_loss = 0.259, val_loss = 0.302, train_acc=0.931, val_acc=0.914\n",
      "Epoch = 390, train_loss = 0.258, val_loss = 0.301, train_acc=0.929, val_acc=0.912\n",
      "Epoch = 400, train_loss = 0.253, val_loss = 0.295, train_acc=0.930, val_acc=0.915\n",
      "Epoch = 410, train_loss = 0.250, val_loss = 0.293, train_acc=0.932, val_acc=0.917\n",
      "Epoch = 420, train_loss = 0.248, val_loss = 0.292, train_acc=0.932, val_acc=0.915\n",
      "Epoch = 430, train_loss = 0.245, val_loss = 0.287, train_acc=0.932, val_acc=0.918\n",
      "Epoch = 440, train_loss = 0.241, val_loss = 0.287, train_acc=0.934, val_acc=0.920\n",
      "Epoch = 450, train_loss = 0.238, val_loss = 0.283, train_acc=0.935, val_acc=0.919\n",
      "Epoch = 460, train_loss = 0.234, val_loss = 0.280, train_acc=0.936, val_acc=0.921\n",
      "Epoch = 470, train_loss = 0.232, val_loss = 0.277, train_acc=0.936, val_acc=0.919\n",
      "Epoch = 480, train_loss = 0.228, val_loss = 0.272, train_acc=0.938, val_acc=0.921\n",
      "Epoch = 490, train_loss = 0.228, val_loss = 0.274, train_acc=0.938, val_acc=0.921\n",
      "Epoch = 500, train_loss = 0.223, val_loss = 0.269, train_acc=0.939, val_acc=0.922\n"
     ]
    },
    {
     "data": {
      "text/plain": [
       "0.268623948097229"
      ]
     },
     "execution_count": 7,
     "metadata": {},
     "output_type": "execute_result"
    }
   ],
   "source": [
    "num_layers = 1\n",
    "num_units = 300\n",
    "epochs = 500\n",
    "batch_size = 128\n",
    "learning_rate = 0.01\n",
    "\n",
    "model = Net(num_layers,num_units,train_x.shape[1],26).to(device)\n",
    "criterion = nn.CrossEntropyLoss()\n",
    "optimizer = SGD(model.parameters(), lr=learning_rate)\n",
    "\n",
    "train(model, optimizer, criterion, train_x, train_y, val_x, val_y,\n",
    "      epochs, device=device)"
   ]
  },
  {
   "cell_type": "code",
   "execution_count": 11,
   "metadata": {},
   "outputs": [],
   "source": [
    "model.eval()\n",
    "save_predictions(model(train_x.to(device)).cpu().detach().numpy())"
   ]
  },
  {
   "cell_type": "code",
   "execution_count": 10,
   "metadata": {},
   "outputs": [
    {
     "name": "stdout",
     "output_type": "stream",
     "text": [
      "Epoch = 10, train_loss = 0.222, val_loss = 0.267, train_acc=0.940, val_acc=0.925\n",
      "Epoch = 20, train_loss = 0.219, val_loss = 0.267, train_acc=0.938, val_acc=0.926\n",
      "Epoch = 30, train_loss = 0.217, val_loss = 0.261, train_acc=0.940, val_acc=0.925\n",
      "Epoch = 40, train_loss = 0.217, val_loss = 0.266, train_acc=0.940, val_acc=0.922\n",
      "Epoch = 50, train_loss = 0.213, val_loss = 0.260, train_acc=0.941, val_acc=0.926\n",
      "Epoch = 60, train_loss = 0.211, val_loss = 0.259, train_acc=0.941, val_acc=0.927\n",
      "Epoch = 70, train_loss = 0.208, val_loss = 0.256, train_acc=0.943, val_acc=0.925\n",
      "Epoch = 80, train_loss = 0.206, val_loss = 0.254, train_acc=0.942, val_acc=0.926\n",
      "Epoch = 90, train_loss = 0.207, val_loss = 0.256, train_acc=0.942, val_acc=0.925\n",
      "Epoch = 100, train_loss = 0.204, val_loss = 0.253, train_acc=0.944, val_acc=0.927\n",
      "Epoch = 110, train_loss = 0.201, val_loss = 0.248, train_acc=0.945, val_acc=0.928\n",
      "Epoch = 120, train_loss = 0.199, val_loss = 0.248, train_acc=0.946, val_acc=0.927\n",
      "Epoch = 130, train_loss = 0.199, val_loss = 0.247, train_acc=0.944, val_acc=0.928\n",
      "Epoch = 140, train_loss = 0.196, val_loss = 0.244, train_acc=0.946, val_acc=0.930\n",
      "Epoch = 150, train_loss = 0.195, val_loss = 0.246, train_acc=0.946, val_acc=0.926\n"
     ]
    },
    {
     "data": {
      "text/plain": [
       "0.2464468777179718"
      ]
     },
     "execution_count": 10,
     "metadata": {},
     "output_type": "execute_result"
    }
   ],
   "source": [
    "# extra training\n",
    "\n",
    "train(model, optimizer, criterion, train_x, train_y, val_x, val_y,\n",
    "      150, device=device)"
   ]
  }
 ],
 "metadata": {
  "kernelspec": {
   "display_name": "Python 3",
   "language": "python",
   "name": "python3"
  },
  "language_info": {
   "codemirror_mode": {
    "name": "ipython",
    "version": 3
   },
   "file_extension": ".py",
   "mimetype": "text/x-python",
   "name": "python",
   "nbconvert_exporter": "python",
   "pygments_lexer": "ipython3",
   "version": "3.7.6"
  }
 },
 "nbformat": 4,
 "nbformat_minor": 4
}
